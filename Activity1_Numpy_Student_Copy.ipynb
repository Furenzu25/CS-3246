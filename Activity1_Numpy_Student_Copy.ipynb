{
  "cells": [
    {
      "cell_type": "markdown",
      "metadata": {
        "id": "A4GF3lV6jm5x"
      },
      "source": [
        "# **Activity 1: NumPy Exercise**\n",
        "\n",
        "**Objective:**\n",
        "\n",
        "Practice NumPy's array manipulation, indexing, and mathematical functions by solving problems related to basic data analysis and matrix operations."
      ]
    },
    {
      "cell_type": "markdown",
      "metadata": {
        "id": "Pq3P9XLbjVU4"
      },
      "source": [
        "## **Part 1**"
      ]
    },
    {
      "cell_type": "markdown",
      "metadata": {
        "id": "VkOXGCuiLGR9"
      },
      "source": [
        "#### 1. Import the numpy package under the name `np`\n"
      ]
    },
    {
      "cell_type": "code",
      "execution_count": 2,
      "metadata": {
        "id": "DhbEnfx8O314"
      },
      "outputs": [],
      "source": [
        "# Tenebroso, Jan Florenz\n",
        "# Casiple, Cyc\n",
        "\n",
        "import numpy as np"
      ]
    },
    {
      "cell_type": "markdown",
      "metadata": {
        "id": "ktNjFh4pO-5C"
      },
      "source": [
        "#### 2. Print the numpy version"
      ]
    },
    {
      "cell_type": "code",
      "execution_count": 3,
      "metadata": {
        "id": "7tZfwQhhPQoI"
      },
      "outputs": [
        {
          "name": "stdout",
          "output_type": "stream",
          "text": [
            "2.2.2\n"
          ]
        }
      ],
      "source": [
        "print(np.__version__)"
      ]
    },
    {
      "cell_type": "markdown",
      "metadata": {
        "id": "D4V99t3oQRAB"
      },
      "source": [
        "#### 3. Create a null array of size 5"
      ]
    },
    {
      "cell_type": "code",
      "execution_count": 26,
      "metadata": {
        "id": "XnL-QmA_QYa2"
      },
      "outputs": [
        {
          "name": "stdout",
          "output_type": "stream",
          "text": [
            "[0.00000000e+000 1.00367638e-311 1.00367638e-311 1.00367638e-311\n",
            " 1.04827398e+223]\n"
          ]
        }
      ],
      "source": [
        "import numpy as np\n",
        "\n",
        "arr = np.empty((5))\n",
        "\n",
        "print(arr)"
      ]
    },
    {
      "cell_type": "markdown",
      "metadata": {
        "id": "x9tAEjPlQcnh"
      },
      "source": [
        "#### 4. Create a null array of size 15 but the seventh value which is 1"
      ]
    },
    {
      "cell_type": "code",
      "execution_count": 27,
      "metadata": {
        "id": "VgwfRV6OQlGk"
      },
      "outputs": [
        {
          "name": "stdout",
          "output_type": "stream",
          "text": [
            "[0. 0. 0. 0. 0. 0. 1. 0. 0. 0. 0. 0. 0. 0. 0.]\n"
          ]
        }
      ],
      "source": [
        "import numpy as np\n",
        "\n",
        "arr = np.empty((15))\n",
        "arr[6] = 1\n",
        "print(arr)"
      ]
    },
    {
      "cell_type": "markdown",
      "metadata": {
        "id": "a5_Af-hYTi-X"
      },
      "source": [
        "#### 5. Create a 4x4 matrix with values ranging from 0 to 11"
      ]
    },
    {
      "cell_type": "code",
      "execution_count": 77,
      "metadata": {
        "id": "HSlLeK5YQ5Lo"
      },
      "outputs": [
        {
          "name": "stdout",
          "output_type": "stream",
          "text": [
            "[[ 5  7 11  8]\n",
            " [ 2 12  8  4]\n",
            " [ 5  8 13  8]\n",
            " [11 11 12  9]]\n"
          ]
        }
      ],
      "source": [
        "import numpy as np\n",
        "from numpy import random\n",
        "\n",
        "arr = random.randint(15, size=(4, 4))\n",
        "\n",
        "print(arr)"
      ]
    },
    {
      "cell_type": "markdown",
      "metadata": {
        "id": "nLJvzwjfVXOL"
      },
      "source": [
        "#### 6. Find indices of non-zero elements from [1,2,4,0,4,0]"
      ]
    },
    {
      "cell_type": "code",
      "execution_count": 329,
      "metadata": {
        "id": "o8vyHuWfVbXu"
      },
      "outputs": [
        {
          "name": "stdout",
          "output_type": "stream",
          "text": [
            "(array([3, 5]),)\n"
          ]
        }
      ],
      "source": [
        "import numpy as np\n",
        "\n",
        "\n",
        "arr = np.array([1, 2, 4, 0, 4, 0])\n",
        "\n",
        "search = np.where(arr == 0)\n",
        "\n",
        "print(search)"
      ]
    },
    {
      "cell_type": "markdown",
      "metadata": {
        "id": "z6OrgicLV6C-"
      },
      "source": [
        "#### 7. Create a 4x4x4 array with random values"
      ]
    },
    {
      "cell_type": "code",
      "execution_count": 11,
      "metadata": {
        "collapsed": true,
        "id": "MhcNEK55V1UF"
      },
      "outputs": [
        {
          "name": "stdout",
          "output_type": "stream",
          "text": [
            "[[[ 5  5  2  6]\n",
            "  [ 8 10  2  0]\n",
            "  [ 9  5  2  8]\n",
            "  [ 5  8 10  3]]\n",
            "\n",
            " [[ 4  2  6  6]\n",
            "  [ 3  4  8  8]\n",
            "  [ 7  7  2  4]\n",
            "  [ 0  2  9  1]]\n",
            "\n",
            " [[ 0  4  4  2]\n",
            "  [ 0  7  3  2]\n",
            "  [10  6  1  6]\n",
            "  [ 9  1  6  9]]\n",
            "\n",
            " [[ 4  7  4  1]\n",
            "  [10  4  9 10]\n",
            "  [ 0  4 10 10]\n",
            "  [ 5  1  4  1]]]\n"
          ]
        }
      ],
      "source": [
        "import numpy as np\n",
        "from numpy import random\n",
        "\n",
        "arr = random.randint(11, size=(4, 4, 4))\n",
        "\n",
        "print(arr)"
      ]
    },
    {
      "cell_type": "markdown",
      "metadata": {
        "id": "aLqeru_NWso3"
      },
      "source": [
        "#### 8. Create a 15x15 array with random assigned values and find the min and max values"
      ]
    },
    {
      "cell_type": "code",
      "execution_count": 20,
      "metadata": {
        "collapsed": true,
        "id": "eSpxGZ2GWqDo"
      },
      "outputs": [
        {
          "name": "stdout",
          "output_type": "stream",
          "text": [
            "0\n",
            "99\n"
          ]
        }
      ],
      "source": [
        "import numpy as np\n",
        "from numpy import random\n",
        "\n",
        "arr = random.randint(100, size=(15, 15))\n",
        "max = arr.max()\n",
        "min = arr.min()\n",
        "print(min)\n",
        "print(max)"
      ]
    },
    {
      "cell_type": "code",
      "execution_count": null,
      "metadata": {
        "id": "cUFXQqkHW6qB"
      },
      "outputs": [],
      "source": []
    },
    {
      "cell_type": "markdown",
      "metadata": {
        "id": "jIAQPvclbEVr"
      },
      "source": [
        "#### 9. Create a random array of size 25 and find the mean value"
      ]
    },
    {
      "cell_type": "code",
      "execution_count": 34,
      "metadata": {
        "id": "q91Y8GMebPeY"
      },
      "outputs": [
        {
          "name": "stdout",
          "output_type": "stream",
          "text": [
            "55.0\n"
          ]
        }
      ],
      "source": [
        "import numpy as np\n",
        "from numpy import random\n",
        "\n",
        "arr = random.randint(100, size=(25)) \n",
        "storage = 0\n",
        "for x in arr:\n",
        "    storage += x\n",
        "    \n",
        "storage = storage / 25\n",
        "print(storage)   "
      ]
    },
    {
      "cell_type": "markdown",
      "metadata": {
        "id": "1z3JFRgAkmNP"
      },
      "source": [
        "#### 10.  Show your codes\n",
        "\n",
        "Given:\n",
        "\n",
        "array 1 = ([2, 4, 9])\\\n",
        "array 2 = ([1, 14, 6])\n",
        "\n",
        "  *Note: Recreate the arrays*"
      ]
    },
    {
      "cell_type": "code",
      "execution_count": 35,
      "metadata": {
        "id": "jiC8LUdknLPN"
      },
      "outputs": [
        {
          "name": "stdout",
          "output_type": "stream",
          "text": [
            "[2 4 9]\n",
            "[ 1 14  6]\n"
          ]
        }
      ],
      "source": [
        "import numpy as np\n",
        "\n",
        "arr1 = np.array([2,4,9])\n",
        "arr2 = np.array([1,14,6])\n",
        "\n",
        "print(arr1)\n",
        "print(arr2)"
      ]
    },
    {
      "cell_type": "markdown",
      "metadata": {
        "id": "QFPFjpSSmecQ"
      },
      "source": [
        "10.1 What is the result of *a + b*?"
      ]
    },
    {
      "cell_type": "code",
      "execution_count": 36,
      "metadata": {
        "id": "Yqcpj3ccm5La"
      },
      "outputs": [
        {
          "name": "stdout",
          "output_type": "stream",
          "text": [
            "[ 3 18 15]\n"
          ]
        }
      ],
      "source": [
        "import numpy as np\n",
        "\n",
        "arr1 = np.array([2,4,9])\n",
        "arr2 = np.array([1,14,6])\n",
        "\n",
        "print(np.add(arr1, arr2))"
      ]
    },
    {
      "cell_type": "markdown",
      "metadata": {
        "id": "t0__U1Bum7k6"
      },
      "source": [
        "10.2 What is the result of *a - b*?"
      ]
    },
    {
      "cell_type": "code",
      "execution_count": 39,
      "metadata": {
        "id": "SmuAcAubnCNO"
      },
      "outputs": [
        {
          "name": "stdout",
          "output_type": "stream",
          "text": [
            "[  1 -10   3]\n"
          ]
        }
      ],
      "source": [
        "import numpy as np\n",
        "\n",
        "arr1 = np.array([2,4,9])\n",
        "arr2 = np.array([1,14,6])\n",
        "\n",
        "print(np.subtract(arr1, arr2))"
      ]
    },
    {
      "cell_type": "markdown",
      "metadata": {
        "id": "5dbiR_Urm5fJ"
      },
      "source": [
        "10.3 What is the result of *a × b*?"
      ]
    },
    {
      "cell_type": "code",
      "execution_count": 40,
      "metadata": {
        "id": "Zpnb_vGqksSF"
      },
      "outputs": [
        {
          "name": "stdout",
          "output_type": "stream",
          "text": [
            "[ 2 56 54]\n"
          ]
        }
      ],
      "source": [
        "import numpy as np\n",
        "\n",
        "arr1 = np.array([2,4,9])\n",
        "arr2 = np.array([1,14,6])\n",
        "\n",
        "print(np.multiply(arr1, arr2))"
      ]
    },
    {
      "cell_type": "markdown",
      "metadata": {
        "id": "jHTozQuZp2WM"
      },
      "source": [
        "10.4 What is the result of *a ÷ b*?"
      ]
    },
    {
      "cell_type": "code",
      "execution_count": 41,
      "metadata": {
        "id": "9Jx0GzTIqArP"
      },
      "outputs": [
        {
          "name": "stdout",
          "output_type": "stream",
          "text": [
            "[2.         0.28571429 1.5       ]\n"
          ]
        }
      ],
      "source": [
        "import numpy as np\n",
        "\n",
        "arr1 = np.array([2,4,9])\n",
        "arr2 = np.array([1,14,6])\n",
        "\n",
        "print(np.divide(arr1, arr2))"
      ]
    },
    {
      "cell_type": "markdown",
      "metadata": {
        "id": "I3FhrIORjZsA"
      },
      "source": [
        "## **Part 2**"
      ]
    },
    {
      "cell_type": "markdown",
      "metadata": {
        "id": "JDa9MTb2wXPi"
      },
      "source": [
        "##### NumPy Array Indexing"
      ]
    },
    {
      "cell_type": "markdown",
      "metadata": {
        "id": "M4rwQgDqrLoo"
      },
      "source": [
        "\n",
        "Given the following matrix:\n",
        "\n",
        "        [[10, 20, 30],\n",
        "        [40, 50, 60],\n",
        "        [70, 80, 90]]\n",
        "\n",
        " 1. Recreate the matrix"
      ]
    },
    {
      "cell_type": "code",
      "execution_count": 42,
      "metadata": {
        "id": "Ra4n8YBQr2RZ"
      },
      "outputs": [
        {
          "name": "stdout",
          "output_type": "stream",
          "text": [
            "[[10 20 30]\n",
            " [40 50 60]\n",
            " [70 80 90]]\n"
          ]
        }
      ],
      "source": [
        "import numpy as np\n",
        "\n",
        "arr = np.array([[10,20,30], [40,50,60], [70,80,90]])\n",
        "\n",
        "print(arr)"
      ]
    },
    {
      "cell_type": "markdown",
      "metadata": {
        "id": "br-ZYkK3uo24"
      },
      "source": [
        "1. Write code to extract the element 50."
      ]
    },
    {
      "cell_type": "code",
      "execution_count": 59,
      "metadata": {
        "id": "kI7jzTiYrTep"
      },
      "outputs": [
        {
          "name": "stdout",
          "output_type": "stream",
          "text": [
            "[50]\n"
          ]
        }
      ],
      "source": [
        "\n",
        "\n",
        "import numpy as np\n",
        "\n",
        "arr = np.array([[10,20,30], [40,50,60], [70,80,90]])\n",
        "\n",
        "filter_arr = arr % 50 == 0\n",
        "\n",
        "newarr = arr[filter_arr]\n",
        "print(newarr)"
      ]
    },
    {
      "cell_type": "markdown",
      "metadata": {
        "id": "H1OsD655sEX6"
      },
      "source": [
        "2. **Extract a Row**\\\n",
        "\\\n",
        "Using the same array arr, extract the second row as a separate NumPy array."
      ]
    },
    {
      "cell_type": "code",
      "execution_count": 61,
      "metadata": {
        "id": "jf-K5No5sRob"
      },
      "outputs": [
        {
          "name": "stdout",
          "output_type": "stream",
          "text": [
            "[40 50 60]\n"
          ]
        }
      ],
      "source": [
        "import numpy as np\n",
        "\n",
        "arr = np.array([[10,20,30], [40,50,60], [70,80,90]])\n",
        "\n",
        "newarr = arr[1]\n",
        "print(newarr)"
      ]
    },
    {
      "cell_type": "markdown",
      "metadata": {
        "id": "qk1-NvWjsVC3"
      },
      "source": [
        "3.  **Extract a Column**\\\n",
        "\\\n",
        "Using arr, extract the third column as a separate NumPy array."
      ]
    },
    {
      "cell_type": "code",
      "execution_count": 89,
      "metadata": {
        "id": "d1s1c5q9sgID"
      },
      "outputs": [
        {
          "name": "stdout",
          "output_type": "stream",
          "text": [
            "[30 60 90]\n",
            "\n"
          ]
        }
      ],
      "source": [
        "import numpy as np\n",
        "\n",
        "arr = np.array([[10,20,30], [40,50,60], [70,80,90]])\n",
        "\n",
        "newarr = arr[0:3, 2]\n",
        "print(newarr)\n",
        "\n",
        "\n",
        "print()"
      ]
    },
    {
      "cell_type": "markdown",
      "metadata": {
        "id": "DIe9pf8nskUZ"
      },
      "source": [
        "4. **Extract a Submatrix**\\\n",
        "\\\n",
        "Extract the following 2×2 submatrix from arr:\\\n",
        "\n",
        "  [[50 60]\\\n",
        " [80 90]]"
      ]
    },
    {
      "cell_type": "code",
      "execution_count": 93,
      "metadata": {
        "id": "37dC5sA3ssZV"
      },
      "outputs": [
        {
          "name": "stdout",
          "output_type": "stream",
          "text": [
            "[[50 60]\n",
            " [80 90]]\n",
            "\n"
          ]
        }
      ],
      "source": [
        "import numpy as np\n",
        "\n",
        "arr = np.array([[10,20,30], [40,50,60], [70,80,90]])\n",
        "\n",
        "newarr = arr[1:3, (1,2)]\n",
        "print(newarr)\n",
        "\n",
        "\n",
        "print()"
      ]
    },
    {
      "cell_type": "markdown",
      "metadata": {
        "id": "ABs-32sKwOcg"
      },
      "source": [
        "##### NumPy Array Slicing"
      ]
    },
    {
      "cell_type": "markdown",
      "metadata": {
        "id": "T7kcCxr9uGAO"
      },
      "source": [
        "Given the following matrix:\n",
        "\n",
        "                [ 1,  2,  3,  4],\n",
        "                [ 5,  6,  7,  8],\n",
        "                [ 9, 10, 11, 12]]\n",
        "\n",
        "1. Recreate the matrix"
      ]
    },
    {
      "cell_type": "code",
      "execution_count": 95,
      "metadata": {
        "id": "CvzBw2FpwasA"
      },
      "outputs": [
        {
          "name": "stdout",
          "output_type": "stream",
          "text": [
            "[[ 1  2  3  4]\n",
            " [ 5  6  7  8]\n",
            " [ 9 10 11 12]]\n"
          ]
        }
      ],
      "source": [
        "import numpy as np\n",
        "\n",
        "arr = np.array([[1,2,3,4],[5,6,7,8],[9,10,11,12]])\n",
        "\n",
        "print(arr)"
      ]
    },
    {
      "cell_type": "markdown",
      "metadata": {
        "id": "YaaIsRTVwlof"
      },
      "source": [
        "2. Write code to extract the following 2×2 subarray:\n",
        "\n",
        "        [[ 6  7]\n",
        "        [10 11]]"
      ]
    },
    {
      "cell_type": "code",
      "execution_count": 96,
      "metadata": {
        "id": "PpyFr5wYwuLN"
      },
      "outputs": [
        {
          "name": "stdout",
          "output_type": "stream",
          "text": [
            "[[ 6  7]\n",
            " [10 11]]\n",
            "\n"
          ]
        }
      ],
      "source": [
        "import numpy as np\n",
        "\n",
        "arr = np.array([[1,2,3,4], [5,6,7,8], [9,10,11,12]])\n",
        "\n",
        "newarr = arr[1:3, (1,2)]\n",
        "print(newarr)\n",
        "\n",
        "\n",
        "print()"
      ]
    },
    {
      "cell_type": "markdown",
      "metadata": {
        "id": "poinisgbw02m"
      },
      "source": [
        "3. Using the same matrix, write code to extract every other element from the first row (expected output: [1, 3])."
      ]
    },
    {
      "cell_type": "code",
      "execution_count": 97,
      "metadata": {
        "id": "9UyP9S3Ww-wf"
      },
      "outputs": [
        {
          "name": "stdout",
          "output_type": "stream",
          "text": [
            "[[1 3]]\n",
            "\n"
          ]
        }
      ],
      "source": [
        "import numpy as np\n",
        "\n",
        "arr = np.array([[1,2,3,4], [5,6,7,8], [9,10,11,12]])\n",
        "\n",
        "newarr = arr[0:1, (0,2)]\n",
        "print(newarr)\n",
        "\n",
        "\n",
        "print()"
      ]
    },
    {
      "cell_type": "markdown",
      "metadata": {
        "id": "0it7IxPqxTq3"
      },
      "source": [
        "4. Write code to reverse the order of rows in the matrix"
      ]
    },
    {
      "cell_type": "code",
      "execution_count": 156,
      "metadata": {
        "id": "-tqPKhrmxWP7"
      },
      "outputs": [
        {
          "name": "stdout",
          "output_type": "stream",
          "text": [
            "[[ 9 10 11 12]\n",
            " [ 5  6  7  8]\n",
            " [ 1  2  3  4]]\n"
          ]
        }
      ],
      "source": [
        "import numpy as np\n",
        "\n",
        "arr = np.array([[1,2,3,4], [5,6,7,8], [9,10,11,12]])\n",
        "\n",
        "\n",
        "reversed_arr = np.flipud(arr)\n",
        "\n",
        "print(reversed_arr)"
      ]
    },
    {
      "cell_type": "markdown",
      "metadata": {
        "id": "C8EWGps7xfYl"
      },
      "source": [
        "5. Write code to extract the last two columns of the matrix."
      ]
    },
    {
      "cell_type": "code",
      "execution_count": 158,
      "metadata": {
        "id": "F7sJw1N1xiKC"
      },
      "outputs": [
        {
          "name": "stdout",
          "output_type": "stream",
          "text": [
            "[[ 3  4]\n",
            " [ 7  8]\n",
            " [11 12]]\n",
            "\n"
          ]
        }
      ],
      "source": [
        "import numpy as np\n",
        "\n",
        "arr = np.array([[1,2,3,4], [5,6,7,8], [9,10,11,12]])\n",
        "\n",
        "newarr = arr[0:3, (2,3)]\n",
        "print(newarr)\n",
        "\n",
        "\n",
        "print()"
      ]
    },
    {
      "cell_type": "markdown",
      "metadata": {
        "id": "_8sVIp1q2MYw"
      },
      "source": [
        "##### NumPy Array Joins\n",
        "\n",
        "1. Given the following arrays:\n",
        "\n",
        "        arr1 = ([11, 7, 33])\\\n",
        "        arr2 = ([44, 5, 18])\n",
        "\n",
        "1.1 Recreate the arrays"
      ]
    },
    {
      "cell_type": "code",
      "execution_count": null,
      "metadata": {
        "id": "-1H2IYDs2hMx"
      },
      "outputs": [],
      "source": [
        "import numpy as np\n",
        "\n",
        "arr1 = np.array([11,7,33])\n",
        "arr2 = np.array([44,5,18])"
      ]
    },
    {
      "cell_type": "markdown",
      "metadata": {
        "id": "jJ-OxwEZ2ysr"
      },
      "source": [
        "2. Write code to join arr1 and arr2 into a single 1D array."
      ]
    },
    {
      "cell_type": "code",
      "execution_count": 1,
      "metadata": {
        "id": "fyKL42Yv2ewQ"
      },
      "outputs": [
        {
          "name": "stdout",
          "output_type": "stream",
          "text": [
            "[11  7 33 44  5 18]\n"
          ]
        }
      ],
      "source": [
        "import numpy as np\n",
        "\n",
        "arr1 = np.array([11,7,33])\n",
        "arr2 = np.array([44,5,18])\n",
        "\n",
        "arr = np.concatenate((arr1, arr2))\n",
        "\n",
        "print(arr)"
      ]
    },
    {
      "cell_type": "markdown",
      "metadata": {
        "id": "1qiYH-0v25Z2"
      },
      "source": [
        "3. Using arr1 and arr2 from question 1, write code to stack them vertically into a 2D array."
      ]
    },
    {
      "cell_type": "code",
      "execution_count": 3,
      "metadata": {
        "id": "MgR89wkS2_Nw"
      },
      "outputs": [
        {
          "name": "stdout",
          "output_type": "stream",
          "text": [
            "[[11 44]\n",
            " [ 7  5]\n",
            " [33 18]]\n"
          ]
        }
      ],
      "source": [
        "import numpy as np\n",
        "\n",
        "arr1 = np.array([11,7,33])\n",
        "arr2 = np.array([44,5,18])\n",
        "\n",
        "arr = np.stack((arr1, arr2), axis=1)\n",
        "\n",
        "print(arr)"
      ]
    },
    {
      "cell_type": "markdown",
      "metadata": {
        "id": "mLanHC623JpJ"
      },
      "source": [
        "4. Given the 2D arrays:\n",
        "\n",
        "        arr1 = ([[1, 2],\n",
        "               [3, 4]])\n",
        "\n",
        "        arr2 = ([[5, 6],\n",
        "               [7, 8]])\n",
        "\n",
        "4.1 Recreate the arrays"
      ]
    },
    {
      "cell_type": "code",
      "execution_count": 12,
      "metadata": {
        "id": "FDGnOATJ3JE4"
      },
      "outputs": [
        {
          "name": "stdout",
          "output_type": "stream",
          "text": [
            "[[1 2]\n",
            " [3 4]] [[5 6]\n",
            " [7 8]]\n"
          ]
        }
      ],
      "source": [
        "import numpy as np\n",
        "\n",
        "arr1 = np.array([[1,2], [3,4]])\n",
        "arr2 = np.array([[5,6], [7,8]])\n",
        "\n",
        "\n",
        "print(arr1, arr2)"
      ]
    },
    {
      "cell_type": "markdown",
      "metadata": {
        "id": "RyJFIfpo3wiA"
      },
      "source": [
        "5. Write code to join them horizontally (column-wise)."
      ]
    },
    {
      "cell_type": "code",
      "execution_count": 18,
      "metadata": {
        "id": "0eHEY4N63zgT"
      },
      "outputs": [
        {
          "name": "stdout",
          "output_type": "stream",
          "text": [
            "[[1 2]\n",
            " [3 4]\n",
            " [5 6]\n",
            " [7 8]]\n"
          ]
        }
      ],
      "source": [
        "import numpy as np\n",
        "\n",
        "arr1 = np.array([[1,2], [3,4]])\n",
        "arr2 = np.array([[5,6], [7,8]])\n",
        "\n",
        "arr = np.vstack((arr1, arr2))\n",
        "\n",
        "print(arr)"
      ]
    },
    {
      "cell_type": "markdown",
      "metadata": {
        "id": "encqt9P74ZSv"
      },
      "source": [
        "6. Using arr1 and arr2 from question 4, write code to join them vertically (row-wise).\n"
      ]
    },
    {
      "cell_type": "code",
      "execution_count": 20,
      "metadata": {
        "id": "o-UjS1Kn4rS7"
      },
      "outputs": [
        {
          "name": "stdout",
          "output_type": "stream",
          "text": [
            "[[1 2 5 6]\n",
            " [3 4 7 8]]\n"
          ]
        }
      ],
      "source": [
        "import numpy as np\n",
        "\n",
        "arr1 = np.array([[1,2], [3,4]])\n",
        "arr2 = np.array([[5,6], [7,8]])\n",
        "\n",
        "arr = np.hstack((arr1, arr2))\n",
        "\n",
        "print(arr)"
      ]
    },
    {
      "cell_type": "markdown",
      "metadata": {
        "id": "2l2umcfvjlXq"
      },
      "source": [
        "## **Part 3**"
      ]
    },
    {
      "cell_type": "markdown",
      "metadata": {
        "id": "-rs5StZQlvYg"
      },
      "source": [
        "### Task 1: Array Creation"
      ]
    },
    {
      "cell_type": "markdown",
      "metadata": {
        "id": "PKyTiCLulztg"
      },
      "source": [
        "Create the following arrays:\n",
        "\n",
        "- A 1D array of integers from 10 to 28, with a step of 2.\n",
        "- A 2D array with shape (4, 4) containing random integers between 1 and 50.\n",
        "- A 3D array of shape (2, 3, 4) filled with ones.\n",
        "\n"
      ]
    },
    {
      "cell_type": "code",
      "execution_count": 160,
      "metadata": {
        "collapsed": true,
        "id": "GRWUhpV46cR4"
      },
      "outputs": [
        {
          "name": "stdout",
          "output_type": "stream",
          "text": [
            "[10 12 14 16 18 20 22 24 26] , [[39 14 48 22]\n",
            " [43  8 13 32]\n",
            " [28 11 27 37]\n",
            " [37 15 24  7]] , [[[1. 1. 1. 1.]\n",
            "  [1. 1. 1. 1.]\n",
            "  [1. 1. 1. 1.]]\n",
            "\n",
            " [[1. 1. 1. 1.]\n",
            "  [1. 1. 1. 1.]\n",
            "  [1. 1. 1. 1.]]]\n"
          ]
        }
      ],
      "source": [
        "import numpy as np\n",
        "from numpy import random\n",
        "\n",
        "arr = np.arange(10,28)\n",
        "arr2d = random.randint(1,50, size=(4, 4))\n",
        "arr3d = np.ones((2,3,4))\n",
        "\n",
        "print(arr[::2], \",\",arr2d, \",\", arr3d)"
      ]
    },
    {
      "cell_type": "markdown",
      "metadata": {
        "id": "yZPELZSx7ggA"
      },
      "source": [
        "### Task 2: Array Transformations\n",
        "Perform the following operations:\n",
        "- Reshape the 1D array to a 2D array with 2 rows.\n",
        "- Extract the last two rows of the 2D array (From Task 1)\n",
        "- Replace all even numbers in the 2D array with -1. (From Task 1)"
      ]
    },
    {
      "cell_type": "code",
      "execution_count": 276,
      "metadata": {
        "id": "5EJrW4nw7sIE"
      },
      "outputs": [
        {
          "name": "stdout",
          "output_type": "stream",
          "text": [
            "[[10 11 12 13 14 15 16 17 18]\n",
            " [19 20 21 22 23 24 25 26 27]] , [[49 41 26 20]\n",
            " [ 3 36 43 43]] , [[[-1. -1. -1. -1.]\n",
            "  [-1. -1. -1. -1.]\n",
            "  [-1. -1. -1. -1.]]\n",
            "\n",
            " [[-1. -1. -1. -1.]\n",
            "  [-1. -1. -1. -1.]\n",
            "  [-1. -1. -1. -1.]]]\n"
          ]
        }
      ],
      "source": [
        "import numpy as np\n",
        "from numpy import random\n",
        "\n",
        "arr = np.arange(10,28)\n",
        "arr2d = random.randint(1,50, size=(4, 4))\n",
        "arr3d = np.ones((2,3,4))\n",
        "\n",
        "Rarr = arr.reshape(2,9)\n",
        "Earr2d = arr2d[2:4, (0,1,2,3)]\n",
        "Negativearr3d = arr3d * -1\n",
        "\n",
        "print(Rarr, \",\",Earr2d, \",\", Negativearr3d)"
      ]
    },
    {
      "cell_type": "markdown",
      "metadata": {
        "id": "ZkDoNNBjn7nP"
      },
      "source": [
        "### Task 3: Statistical Operations"
      ]
    },
    {
      "cell_type": "markdown",
      "metadata": {
        "id": "87sRNKp0n7nP"
      },
      "source": [
        "Using the 2D array from **Task 1**, compute the following:\n",
        "\n",
        "- The mean, median, and standard deviation of the array. (From Task 1)\n",
        "- The sum of all elements along each row. (From Task 1)\n",
        "- The maximum value and its index in the entire array. (From Task 1)\n"
      ]
    },
    {
      "cell_type": "code",
      "execution_count": 304,
      "metadata": {
        "id": "TEoMfRV68VlZ"
      },
      "outputs": [
        {
          "name": "stdout",
          "output_type": "stream",
          "text": [
            "20.75 , 332 , 1 , 48\n"
          ]
        }
      ],
      "source": [
        "import numpy as np\n",
        "from numpy import random\n",
        "\n",
        "arr = random.randint(1,50, size=(4, 4))\n",
        "\n",
        "Marr = np.mean(arr)\n",
        "\n",
        "Sarr = np.sum(arr)\n",
        "\n",
        "Minarr = np.min(arr)\n",
        "\n",
        "Maxarr = np.max(arr)\n",
        "\n",
        "print(Marr,\",\",Sarr,\",\",Minarr,\",\",Maxarr)"
      ]
    },
    {
      "cell_type": "markdown",
      "metadata": {
        "id": "T_X0kP3I9eWi"
      },
      "source": [
        "###  Task 4: Advanced Analysis on Large Arrays"
      ]
    },
    {
      "cell_type": "markdown",
      "metadata": {
        "id": "B6uTdro89kE7"
      },
      "source": [
        "- Create a (10, 10) array containing random floating-point numbers between 0 and 1.\n",
        "- Find the minimum value along each column.\n",
        "- Find the indices of the top 5 largest values in the entire array."
      ]
    },
    {
      "cell_type": "code",
      "execution_count": null,
      "metadata": {
        "id": "UwJw1MIn9ovK"
      },
      "outputs": [
        {
          "name": "stdout",
          "output_type": "stream",
          "text": [
            "[[0.95615485 0.69196568 0.50179064 0.90266835 0.40898321 0.41918731\n",
            "  0.49567042 0.82695301 0.56675748 0.75327465]\n",
            " [0.86761306 0.7122036  0.54457475 0.790403   0.62515087 0.35524821\n",
            "  0.45336744 0.08428004 0.77434647 0.90498505]\n",
            " [0.40447166 0.45492119 0.22195676 0.92403719 0.64544266 0.29582734\n",
            "  0.8985506  0.33859031 0.63421246 0.80128894]\n",
            " [0.93561554 0.48737992 0.48198877 0.56662101 0.33581109 0.04450111\n",
            "  0.09248433 0.40163793 0.72101478 0.60659194]\n",
            " [0.77781234 0.54737849 0.16724677 0.93440834 0.71129208 0.54652683\n",
            "  0.93438538 0.66584896 0.39870287 0.46275597]\n",
            " [0.48031826 0.77285886 0.95966167 0.60861713 0.50415313 0.90804846\n",
            "  0.47308706 0.76821831 0.01488809 0.39532129]\n",
            " [0.33360084 0.04658338 0.93241656 0.26180687 0.93826823 0.10946405\n",
            "  0.98808617 0.1483416  0.56089549 0.28276099]\n",
            " [0.22496672 0.67035988 0.4439263  0.38650057 0.28542818 0.57722611\n",
            "  0.34139971 0.39669573 0.70300333 0.9702874 ]\n",
            " [0.67322327 0.35636664 0.03658247 0.75575004 0.8241001  0.75541224\n",
            "  0.45736944 0.47900547 0.37045412 0.18441143]\n",
            " [0.48603339 0.68891114 0.16914017 0.73038746 0.20006945 0.84782245\n",
            "  0.09085429 0.11090376 0.88814312 0.50906781]] , [0.22496672 0.04658338 0.03658247 0.26180687 0.20006945 0.04450111\n",
            " 0.09085429 0.08428004 0.01488809 0.18441143] , [6 0 5 7 6] [4 0 2 9 6]\n"
          ]
        }
      ],
      "source": [
        "import numpy as np\n",
        "from numpy import random\n",
        "\n",
        "arr = random.rand(10,10)\n",
        "\n",
        "minarr = np.min(arr, axis=0)\n",
        "\n",
        "indarr = np.argsort(arr.flatten())[-5:]\n",
        "\n",
        "largestarr = np.unravel_index(indarr, arr.shape)\n",
        "\n",
        "\n",
        "print(arr, \",\", minarr, \",\", largestarr[0], largestarr[1])\n"
      ]
    }
  ],
  "metadata": {
    "colab": {
      "collapsed_sections": [
        "JDa9MTb2wXPi",
        "ABs-32sKwOcg"
      ],
      "provenance": []
    },
    "kernelspec": {
      "display_name": "Python 3",
      "name": "python3"
    },
    "language_info": {
      "codemirror_mode": {
        "name": "ipython",
        "version": 3
      },
      "file_extension": ".py",
      "mimetype": "text/x-python",
      "name": "python",
      "nbconvert_exporter": "python",
      "pygments_lexer": "ipython3",
      "version": "3.10.0"
    }
  },
  "nbformat": 4,
  "nbformat_minor": 0
}
